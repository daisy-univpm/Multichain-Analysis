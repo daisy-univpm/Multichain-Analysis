{
 "cells": [
  {
   "cell_type": "code",
   "execution_count": 2,
   "id": "2a003a9b",
   "metadata": {},
   "outputs": [],
   "source": [
    "import pandas as pd\n",
    "import numpy as np\n",
    "import seaborn as sns\n",
    "from datetime import datetime\n",
    "from matplotlib import pyplot as plt\n",
    "from matplotlib.pyplot import figure\n",
    "import seaborn as sns\n",
    "import matplotlib.dates as mdates\n",
    "from matplotlib.dates import DateFormatter\n",
    "from sklearn.linear_model import LinearRegression\n",
    "sns.set_theme(style='ticks')"
   ]
  },
  {
   "cell_type": "code",
   "execution_count": null,
   "id": "f7f92e98",
   "metadata": {},
   "outputs": [],
   "source": [
    "col3 = ['Addresses','Token','Blockchain_1','Blockchain_2','Blockchain_3', 'Blockchain_4','TxID_1','TxID_2' ,'TxID_3']\n",
    "ore=[0.1, 0.2, 0.3, 0.4, 0.5, 0.6, 0.7, 0.8, 0.9, 1, 2 ,6 ,12 ,18 ,24]\n",
    "for h in ore:\n",
    "    ciclo3=pd.DataFrame(columns = col3)\n",
    "    print(h)\n",
    "    \n",
    "    #cicli da 3 in path da 3\n",
    "    path3 = pd.read_csv(f'longest_pathsv2/path_L3_H{h}.csv')\n",
    "    temp = path3[path3['Blockchain_1']==path3['Blockchain_4']]\n",
    "    \n",
    "    ciclo3 = ciclo3.append(temp[col3], ignore_index=True)\n",
    "\n",
    "    #ciclo3.to_csv(f'PathToCyclev2/cicloL3_H{h}')"
   ]
  },
  {
   "cell_type": "code",
   "execution_count": null,
   "id": "5cda26f1",
   "metadata": {},
   "outputs": [],
   "source": [
    "col2 = ['Addresses','Token','Blockchain_1','Blockchain_2','Blockchain_3','TxID_1','TxID_2']\n",
    "\n",
    "ore=[0.1, 0.2, 0.3, 0.4, 0.5, 0.6, 0.7, 0.8, 0.9, 1, 2 ,6 ,12 ,18 ,24]\n",
    "    \n",
    "for h in ore:\n",
    "    ciclo2=pd.DataFrame(columns = col2)\n",
    "    \n",
    "    #cicli da 2 in path da 2\n",
    "    path2 = pd.read_csv(f'longest_pathsv2/path_L2_H{h}.csv')\n",
    "    ciclo2 = ciclo2.append(path2[path2['Blockchain_1']==path2['Blockchain_3']][col2], ignore_index=True)\n",
    "\n",
    "    #ciclo2.to_csv(f'PathToCyclev2/cicloL2_H{h}')"
   ]
  }
 ],
 "metadata": {
  "kernelspec": {
   "display_name": "Python 3",
   "language": "python",
   "name": "python3"
  },
  "language_info": {
   "codemirror_mode": {
    "name": "ipython",
    "version": 3
   },
   "file_extension": ".py",
   "mimetype": "text/x-python",
   "name": "python",
   "nbconvert_exporter": "python",
   "pygments_lexer": "ipython3",
   "version": "3.11.0"
  },
  "vscode": {
   "interpreter": {
    "hash": "bae441481f6531f70c466102d3f6399748e550b88321e7377aa67d2817b1af80"
   }
  }
 },
 "nbformat": 4,
 "nbformat_minor": 5
}
